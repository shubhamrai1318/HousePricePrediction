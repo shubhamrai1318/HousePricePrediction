{
  "nbformat": 4,
  "nbformat_minor": 0,
  "metadata": {
    "colab": {
      "provenance": [],
      "authorship_tag": "ABX9TyPkVnOsexa3YtWl4PW+bqHt",
      "include_colab_link": true
    },
    "kernelspec": {
      "name": "python3",
      "display_name": "Python 3"
    },
    "language_info": {
      "name": "python"
    }
  },
  "cells": [
    {
      "cell_type": "markdown",
      "metadata": {
        "id": "view-in-github",
        "colab_type": "text"
      },
      "source": [
        "<a href=\"https://colab.research.google.com/github/shubhamrai1318/HousePricePrediction/blob/main/HousePricePrediction.ipynb\" target=\"_parent\"><img src=\"https://colab.research.google.com/assets/colab-badge.svg\" alt=\"Open In Colab\"/></a>"
      ]
    },
    {
      "cell_type": "markdown",
      "source": [
        "# **House price prediction using Linear Regression-SingleVariable**"
      ],
      "metadata": {
        "id": "xWRahsg8z62f"
      }
    },
    {
      "cell_type": "markdown",
      "source": [
        "### **Import Libraries**"
      ],
      "metadata": {
        "id": "8eu9gDBH0Gyq"
      }
    },
    {
      "cell_type": "code",
      "source": [
        "import pandas as pd\n",
        "from sklearn.linear_model import LinearRegression\n",
        "import matplotlib.pyplot as plt"
      ],
      "metadata": {
        "id": "iRyFyqBG0CbU"
      },
      "execution_count": null,
      "outputs": []
    },
    {
      "cell_type": "markdown",
      "source": [
        "### **Load Dataset from Local Directory**"
      ],
      "metadata": {
        "id": "Zl69o38u0MMn"
      }
    },
    {
      "cell_type": "code",
      "source": [
        "from google.colab import files\n",
        "uploaded = files.upload()"
      ],
      "metadata": {
        "id": "yyHe3CvF0WVg"
      },
      "execution_count": null,
      "outputs": []
    },
    {
      "cell_type": "code",
      "source": [
        "# Loading Dataset\n",
        "dataset = pd.read_csv('dataset.csv')"
      ],
      "metadata": {
        "id": "QLTCSNfd0ZBM"
      },
      "execution_count": null,
      "outputs": []
    },
    {
      "cell_type": "markdown",
      "source": [
        "### **Summarize Dataset**"
      ],
      "metadata": {
        "id": "Tm82KlZ60h5a"
      }
    },
    {
      "cell_type": "code",
      "source": [
        "print(dataset.shape)\n",
        "print(dataset.head(5))"
      ],
      "metadata": {
        "id": "7etJWPHT0nh1"
      },
      "execution_count": null,
      "outputs": []
    },
    {
      "cell_type": "markdown",
      "source": [
        "### **Visualize Dataset**"
      ],
      "metadata": {
        "id": "UyAwt1mT1Moj"
      }
    },
    {
      "cell_type": "code",
      "source": [
        "plt.xlabel('Area')\n",
        "plt.ylabel('Price')\n",
        "plt.scatter(dataset.area,dataset.price,color='red',marker='*')"
      ],
      "metadata": {
        "id": "9KuSMODe1QJP"
      },
      "execution_count": null,
      "outputs": []
    }
  ]
}